{
  "nbformat": 4,
  "nbformat_minor": 0,
  "metadata": {
    "colab": {
      "provenance": []
    },
    "kernelspec": {
      "name": "python3",
      "display_name": "Python 3"
    },
    "language_info": {
      "name": "python"
    }
  },
  "cells": [
    {
      "cell_type": "markdown",
      "source": [
        "This dataset include information about :\n",
        "* id - ID yang ditugaskan LC yang unik untuk daftar pinjaman.\n",
        "* member_id - ID yang ditugaskan LC yang unik untuk anggota peminjam.\n",
        "* loan_amnt - Jumlah pinjaman yang terdaftar yang diterapkan oleh peminjam. Jika pada suatu titik waktu, departemen kredit mengurangi jumlah pinjaman, maka itu akan tercermin dalam nilai ini.\n",
        "* funded_amnt - Jumlah total yang berkomitmen untuk pinjaman itu pada saat itu.\n",
        "* funded_amnt_inv - Jumlah total yang dilakukan oleh investor untuk pinjaman itu pada saat itu.\n",
        "* term - Jumlah pembayaran pinjaman. Nilai dalam beberapa bulan dan dapat berupa 36 atau 60.\n",
        "* int_rate - Suku bunga pinjaman\n",
        "* installment - Pembayaran bulanan yang terutang oleh peminjam jika pinjaman berasal.\n",
        "* grade - LC menugaskan nilai pinjaman\n",
        "* sub_grade - LC Ditugaskan Subgrade Pinjaman\n",
        "* emp_title - Judul pekerjaan yang disediakan oleh peminjam saat mengajukan pinjaman.*\n",
        "* emp_length - Panjang pekerjaan dalam beberapa tahun. Nilai yang mungkin adalah antara 0 dan 10 di mana 0 berarti kurang dari satu tahun dan 10 berarti sepuluh tahun atau lebih.\n",
        "* home_ownership - Status kepemilikan rumah yang disediakan oleh peminjam selama pendaftaran. Nilai -nilai kami adalah: sewa, sendiri, hipotek, lainnya.\n",
        "* annual_inc - Penghasilan tahunan yang dilaporkan sendiri yang disediakan oleh peminjam selama pendaftaran.\n",
        "* verification_status - --------------------------------------------------------------\n",
        "* issue_d - Bulan yang didanai pinjaman\n",
        "* pymnt_plan - Menunjukkan jika rencana pembayaran telah diberlakukan untuk pinjaman\n",
        "* url - URL untuk halaman LC dengan data daftar.\n",
        "* desc - Deskripsi pinjaman yang disediakan oleh peminjam\n",
        "* purpose - Kategori yang disediakan oleh peminjam untuk permintaan pinjaman.\n",
        "* title - Judul pinjaman yang disediakan oleh peminjam\n",
        "* zip_code - 3 nomor pertama dari kode pos yang disediakan oleh peminjam dalam aplikasi pinjaman.\n",
        "* addr_state - Negara yang disediakan oleh peminjam dalam aplikasi pinjaman\n",
        "* dti - Rasio yang dihitung menggunakan total pembayaran utang bulanan peminjam atas total kewajiban utang, tidak termasuk hipotek dan pinjaman LC yang diminta, dibagi dengan pendapatan bulanan peminjam yang dilaporkan sendiri.\n",
        "* delinq_2yrs - Jumlah 30+ hari insiden kenakalan yang lewat dalam file kredit peminjam selama 2 tahun terakhir\n",
        "* earliest_cr_line - Bulan jalur kredit yang paling awal dilaporkan peminjam dibuka\n",
        "* inq_last_6mths - Jumlah pertanyaan dalam 6 bulan terakhir (tidak termasuk pertanyaan otomatis dan hipotek)\n",
        "* mths_since_last_delinq - Jumlah bulan sejak kenakalan terakhir peminjam.\n",
        "* mths_since_last_record - Jumlah bulan sejak catatan publik terakhir.\n",
        "* open_acc - Jumlah jalur kredit terbuka dalam file kredit peminjam.\n",
        "* pub_rec - Jumlah catatan publik yang menghina\n",
        "* revol_bal - Total Saldo Revolving Credit\n",
        "* revol_util - Tingkat pemanfaatan jalur bergulir, atau jumlah kredit yang digunakan peminjam relatif terhadap semua kredit revolving yang tersedia.\n",
        "* total_acc - Jumlah total jalur kredit saat ini dalam file kredit peminjam\n",
        "* initial_list_status - Status daftar awal pinjaman. Nilai yang mungkin adalah - w, f\n",
        "* out_prncp - Kepala sekolah yang tersisa untuk jumlah total yang didanai\n",
        "* out_prncp_inv - Kepala sekolah yang tersisa untuk sebagian dari jumlah total yang didanai oleh investor\n",
        "* total_pymnt - Pembayaran diterima hingga saat ini untuk jumlah total yang didanai\n",
        "* total_pymnt_inv - Pembayaran diterima hingga saat ini untuk sebagian dari jumlah total yang didanai oleh investor\n",
        "* total_rec_int - Bunga diterima hingga saat ini\n",
        "* total_rec_late_fee - Biaya keterlambatan yang diterima hingga saat ini\n",
        "* total_rec_prncp - Kepala sekolah diterima hingga saat ini\n",
        "* recoveries - Posting biaya pemulihan kotor\n",
        "* collection_recovery_fee - Biaya pengumpulan biaya penagihan\n",
        "* last_pymnt_d - Bulan lalu pembayaran diterima\n",
        "* last_pymnt_amnt - Jumlah total pembayaran terakhir yang diterima\n",
        "* next_pymnt_d - Tanggal Pembayaran Terjadwal Berikutnya\n",
        "* last_credit_pull_d - Bulan terbaru LC menarik kredit untuk pinjaman ini\n",
        "* collections_12_mths_ex_med - Jumlah koleksi dalam 12 bulan tidak termasuk koleksi medis\n",
        "* mths_since_last_major_derog - Bulan sejak peringkat 90 hari atau lebih buruk terakhir\n",
        "* policy_code - \"Policy_code yang tersedia untuk umum = 1 Produk Baru Tidak Tersedia Umum Kebijakan_Code = 2\"\n",
        "* application_type - Menunjukkan apakah pinjaman adalah aplikasi individu atau aplikasi bersama dengan dua peminjam bersama\n",
        "* annual_inc_joint - Penghasilan tahunan yang dilaporkan sendiri gabungan yang disediakan oleh co-peminjam selama pendaftaran\n",
        "* dti_joint - Rasio yang dihitung menggunakan total pembayaran bulanan peminjam bersama atas total kewajiban utang, tidak termasuk hipotek dan pinjaman LC yang diminta, dibagi oleh pendapatan bulanan yang dilaporkan sendiri oleh co-peminjam yang dilaporkan sendiri\n",
        "* verification_status_joint - ------------------------------------------------------------------------\n",
        "* acc_now_delinq - Jumlah akun di mana peminjam sekarang nakal.\n",
        "* tot_coll_amt - Total jumlah pengumpulan yang pernah ada\n",
        "* tot_cur_bal - Total Saldo Saat Ini dari Semua Akun\n",
        "* open_acc_6m - Jumlah perdagangan terbuka dalam 6 bulan terakhir\n",
        "* open_il_6m - Jumlah perdagangan angsuran aktif saat ini\n",
        "* open_il_12m - Jumlah akun angsuran yang dibuka dalam 12 bulan terakhir\n",
        "* open_il_24m - Jumlah akun angsuran yang dibuka dalam 24 bulan terakhir\n",
        "* mths_since_rcnt_il - Bulan sejak akun angsuran terbaru dibuka\n",
        "* total_bal_il - Total saldo saat ini dari semua akun angsuran\n",
        "* il_util - Rasio total saldo saat ini dengan batas kredit/kredit tinggi pada semua instal acct\n",
        "* open_rv_12m - Jumlah perdagangan revolving dibuka dalam 12 bulan terakhir\n",
        "* open_rv_24m - Jumlah perdagangan revolving dibuka dalam 24 bulan terakhir\n",
        "* max_bal_bc - Saldo arus maksimum terutang pada semua akun bergulir\n",
        "* all_util - Saldo ke batas kredit untuk semua perdagangan\n",
        "* total_rev_hi_lim - Total Batas Kredit/Kredit Tinggi Revolving\n",
        "* inq_fi - Jumlah pertanyaan keuangan pribadi\n",
        "* total_cu_tl - Jumlah Perdagangan Keuangan\n",
        "* inq_last_12m - Jumlah pertanyaan kredit dalam 12 bulan terakhir\n"
      ],
      "metadata": {
        "id": "hXF3E0rncUlC"
      }
    },
    {
      "cell_type": "code",
      "execution_count": 1,
      "metadata": {
        "id": "sQAC_WNKLPrt"
      },
      "outputs": [],
      "source": [
        "import pandas as pd\n",
        "import numpy as np\n",
        "import matplotlib.pyplot as plt\n",
        "import seaborn as sns"
      ]
    },
    {
      "cell_type": "code",
      "source": [
        "df = pd.read_csv('/content/drive/MyDrive/assets_ML/df_2007_2014.csv')\n",
        "df.head()"
      ],
      "metadata": {
        "colab": {
          "base_uri": "https://localhost:8080/",
          "height": 438
        },
        "id": "o6s421ItNClV",
        "outputId": "d3fc39dc-f8aa-4e0e-bb70-39b8b0fca69f"
      },
      "execution_count": 2,
      "outputs": [
        {
          "output_type": "stream",
          "name": "stderr",
          "text": [
            "<ipython-input-2-5e40c54e0537>:1: DtypeWarning: Columns (20) have mixed types. Specify dtype option on import or set low_memory=False.\n",
            "  df = pd.read_csv('/content/drive/MyDrive/assets_ML/loan_data_2007_2014.csv')\n"
          ]
        },
        {
          "output_type": "execute_result",
          "data": {
            "text/plain": [
              "   Unnamed: 0       id  member_id  loan_amnt  funded_amnt  funded_amnt_inv  \\\n",
              "0           0  1077501    1296599       5000         5000           4975.0   \n",
              "1           1  1077430    1314167       2500         2500           2500.0   \n",
              "2           2  1077175    1313524       2400         2400           2400.0   \n",
              "3           3  1076863    1277178      10000        10000          10000.0   \n",
              "4           4  1075358    1311748       3000         3000           3000.0   \n",
              "\n",
              "         term  int_rate  installment grade  ... total_bal_il il_util  \\\n",
              "0   36 months     10.65       162.87     B  ...          NaN     NaN   \n",
              "1   60 months     15.27        59.83     C  ...          NaN     NaN   \n",
              "2   36 months     15.96        84.33     C  ...          NaN     NaN   \n",
              "3   36 months     13.49       339.31     C  ...          NaN     NaN   \n",
              "4   60 months     12.69        67.79     B  ...          NaN     NaN   \n",
              "\n",
              "  open_rv_12m open_rv_24m  max_bal_bc all_util total_rev_hi_lim inq_fi  \\\n",
              "0         NaN         NaN         NaN      NaN              NaN    NaN   \n",
              "1         NaN         NaN         NaN      NaN              NaN    NaN   \n",
              "2         NaN         NaN         NaN      NaN              NaN    NaN   \n",
              "3         NaN         NaN         NaN      NaN              NaN    NaN   \n",
              "4         NaN         NaN         NaN      NaN              NaN    NaN   \n",
              "\n",
              "  total_cu_tl inq_last_12m  \n",
              "0         NaN          NaN  \n",
              "1         NaN          NaN  \n",
              "2         NaN          NaN  \n",
              "3         NaN          NaN  \n",
              "4         NaN          NaN  \n",
              "\n",
              "[5 rows x 75 columns]"
            ],
            "text/html": [
              "\n",
              "  <div id=\"df-d264af73-3947-4241-b4f7-431a64b90847\">\n",
              "    <div class=\"colab-df-container\">\n",
              "      <div>\n",
              "<style scoped>\n",
              "    .dataframe tbody tr th:only-of-type {\n",
              "        vertical-align: middle;\n",
              "    }\n",
              "\n",
              "    .dataframe tbody tr th {\n",
              "        vertical-align: top;\n",
              "    }\n",
              "\n",
              "    .dataframe thead th {\n",
              "        text-align: right;\n",
              "    }\n",
              "</style>\n",
              "<table border=\"1\" class=\"dataframe\">\n",
              "  <thead>\n",
              "    <tr style=\"text-align: right;\">\n",
              "      <th></th>\n",
              "      <th>Unnamed: 0</th>\n",
              "      <th>id</th>\n",
              "      <th>member_id</th>\n",
              "      <th>loan_amnt</th>\n",
              "      <th>funded_amnt</th>\n",
              "      <th>funded_amnt_inv</th>\n",
              "      <th>term</th>\n",
              "      <th>int_rate</th>\n",
              "      <th>installment</th>\n",
              "      <th>grade</th>\n",
              "      <th>...</th>\n",
              "      <th>total_bal_il</th>\n",
              "      <th>il_util</th>\n",
              "      <th>open_rv_12m</th>\n",
              "      <th>open_rv_24m</th>\n",
              "      <th>max_bal_bc</th>\n",
              "      <th>all_util</th>\n",
              "      <th>total_rev_hi_lim</th>\n",
              "      <th>inq_fi</th>\n",
              "      <th>total_cu_tl</th>\n",
              "      <th>inq_last_12m</th>\n",
              "    </tr>\n",
              "  </thead>\n",
              "  <tbody>\n",
              "    <tr>\n",
              "      <th>0</th>\n",
              "      <td>0</td>\n",
              "      <td>1077501</td>\n",
              "      <td>1296599</td>\n",
              "      <td>5000</td>\n",
              "      <td>5000</td>\n",
              "      <td>4975.0</td>\n",
              "      <td>36 months</td>\n",
              "      <td>10.65</td>\n",
              "      <td>162.87</td>\n",
              "      <td>B</td>\n",
              "      <td>...</td>\n",
              "      <td>NaN</td>\n",
              "      <td>NaN</td>\n",
              "      <td>NaN</td>\n",
              "      <td>NaN</td>\n",
              "      <td>NaN</td>\n",
              "      <td>NaN</td>\n",
              "      <td>NaN</td>\n",
              "      <td>NaN</td>\n",
              "      <td>NaN</td>\n",
              "      <td>NaN</td>\n",
              "    </tr>\n",
              "    <tr>\n",
              "      <th>1</th>\n",
              "      <td>1</td>\n",
              "      <td>1077430</td>\n",
              "      <td>1314167</td>\n",
              "      <td>2500</td>\n",
              "      <td>2500</td>\n",
              "      <td>2500.0</td>\n",
              "      <td>60 months</td>\n",
              "      <td>15.27</td>\n",
              "      <td>59.83</td>\n",
              "      <td>C</td>\n",
              "      <td>...</td>\n",
              "      <td>NaN</td>\n",
              "      <td>NaN</td>\n",
              "      <td>NaN</td>\n",
              "      <td>NaN</td>\n",
              "      <td>NaN</td>\n",
              "      <td>NaN</td>\n",
              "      <td>NaN</td>\n",
              "      <td>NaN</td>\n",
              "      <td>NaN</td>\n",
              "      <td>NaN</td>\n",
              "    </tr>\n",
              "    <tr>\n",
              "      <th>2</th>\n",
              "      <td>2</td>\n",
              "      <td>1077175</td>\n",
              "      <td>1313524</td>\n",
              "      <td>2400</td>\n",
              "      <td>2400</td>\n",
              "      <td>2400.0</td>\n",
              "      <td>36 months</td>\n",
              "      <td>15.96</td>\n",
              "      <td>84.33</td>\n",
              "      <td>C</td>\n",
              "      <td>...</td>\n",
              "      <td>NaN</td>\n",
              "      <td>NaN</td>\n",
              "      <td>NaN</td>\n",
              "      <td>NaN</td>\n",
              "      <td>NaN</td>\n",
              "      <td>NaN</td>\n",
              "      <td>NaN</td>\n",
              "      <td>NaN</td>\n",
              "      <td>NaN</td>\n",
              "      <td>NaN</td>\n",
              "    </tr>\n",
              "    <tr>\n",
              "      <th>3</th>\n",
              "      <td>3</td>\n",
              "      <td>1076863</td>\n",
              "      <td>1277178</td>\n",
              "      <td>10000</td>\n",
              "      <td>10000</td>\n",
              "      <td>10000.0</td>\n",
              "      <td>36 months</td>\n",
              "      <td>13.49</td>\n",
              "      <td>339.31</td>\n",
              "      <td>C</td>\n",
              "      <td>...</td>\n",
              "      <td>NaN</td>\n",
              "      <td>NaN</td>\n",
              "      <td>NaN</td>\n",
              "      <td>NaN</td>\n",
              "      <td>NaN</td>\n",
              "      <td>NaN</td>\n",
              "      <td>NaN</td>\n",
              "      <td>NaN</td>\n",
              "      <td>NaN</td>\n",
              "      <td>NaN</td>\n",
              "    </tr>\n",
              "    <tr>\n",
              "      <th>4</th>\n",
              "      <td>4</td>\n",
              "      <td>1075358</td>\n",
              "      <td>1311748</td>\n",
              "      <td>3000</td>\n",
              "      <td>3000</td>\n",
              "      <td>3000.0</td>\n",
              "      <td>60 months</td>\n",
              "      <td>12.69</td>\n",
              "      <td>67.79</td>\n",
              "      <td>B</td>\n",
              "      <td>...</td>\n",
              "      <td>NaN</td>\n",
              "      <td>NaN</td>\n",
              "      <td>NaN</td>\n",
              "      <td>NaN</td>\n",
              "      <td>NaN</td>\n",
              "      <td>NaN</td>\n",
              "      <td>NaN</td>\n",
              "      <td>NaN</td>\n",
              "      <td>NaN</td>\n",
              "      <td>NaN</td>\n",
              "    </tr>\n",
              "  </tbody>\n",
              "</table>\n",
              "<p>5 rows × 75 columns</p>\n",
              "</div>\n",
              "      <button class=\"colab-df-convert\" onclick=\"convertToInteractive('df-d264af73-3947-4241-b4f7-431a64b90847')\"\n",
              "              title=\"Convert this dataframe to an interactive table.\"\n",
              "              style=\"display:none;\">\n",
              "        \n",
              "  <svg xmlns=\"http://www.w3.org/2000/svg\" height=\"24px\"viewBox=\"0 0 24 24\"\n",
              "       width=\"24px\">\n",
              "    <path d=\"M0 0h24v24H0V0z\" fill=\"none\"/>\n",
              "    <path d=\"M18.56 5.44l.94 2.06.94-2.06 2.06-.94-2.06-.94-.94-2.06-.94 2.06-2.06.94zm-11 1L8.5 8.5l.94-2.06 2.06-.94-2.06-.94L8.5 2.5l-.94 2.06-2.06.94zm10 10l.94 2.06.94-2.06 2.06-.94-2.06-.94-.94-2.06-.94 2.06-2.06.94z\"/><path d=\"M17.41 7.96l-1.37-1.37c-.4-.4-.92-.59-1.43-.59-.52 0-1.04.2-1.43.59L10.3 9.45l-7.72 7.72c-.78.78-.78 2.05 0 2.83L4 21.41c.39.39.9.59 1.41.59.51 0 1.02-.2 1.41-.59l7.78-7.78 2.81-2.81c.8-.78.8-2.07 0-2.86zM5.41 20L4 18.59l7.72-7.72 1.47 1.35L5.41 20z\"/>\n",
              "  </svg>\n",
              "      </button>\n",
              "      \n",
              "  <style>\n",
              "    .colab-df-container {\n",
              "      display:flex;\n",
              "      flex-wrap:wrap;\n",
              "      gap: 12px;\n",
              "    }\n",
              "\n",
              "    .colab-df-convert {\n",
              "      background-color: #E8F0FE;\n",
              "      border: none;\n",
              "      border-radius: 50%;\n",
              "      cursor: pointer;\n",
              "      display: none;\n",
              "      fill: #1967D2;\n",
              "      height: 32px;\n",
              "      padding: 0 0 0 0;\n",
              "      width: 32px;\n",
              "    }\n",
              "\n",
              "    .colab-df-convert:hover {\n",
              "      background-color: #E2EBFA;\n",
              "      box-shadow: 0px 1px 2px rgba(60, 64, 67, 0.3), 0px 1px 3px 1px rgba(60, 64, 67, 0.15);\n",
              "      fill: #174EA6;\n",
              "    }\n",
              "\n",
              "    [theme=dark] .colab-df-convert {\n",
              "      background-color: #3B4455;\n",
              "      fill: #D2E3FC;\n",
              "    }\n",
              "\n",
              "    [theme=dark] .colab-df-convert:hover {\n",
              "      background-color: #434B5C;\n",
              "      box-shadow: 0px 1px 3px 1px rgba(0, 0, 0, 0.15);\n",
              "      filter: drop-shadow(0px 1px 2px rgba(0, 0, 0, 0.3));\n",
              "      fill: #FFFFFF;\n",
              "    }\n",
              "  </style>\n",
              "\n",
              "      <script>\n",
              "        const buttonEl =\n",
              "          document.querySelector('#df-d264af73-3947-4241-b4f7-431a64b90847 button.colab-df-convert');\n",
              "        buttonEl.style.display =\n",
              "          google.colab.kernel.accessAllowed ? 'block' : 'none';\n",
              "\n",
              "        async function convertToInteractive(key) {\n",
              "          const element = document.querySelector('#df-d264af73-3947-4241-b4f7-431a64b90847');\n",
              "          const dataTable =\n",
              "            await google.colab.kernel.invokeFunction('convertToInteractive',\n",
              "                                                     [key], {});\n",
              "          if (!dataTable) return;\n",
              "\n",
              "          const docLinkHtml = 'Like what you see? Visit the ' +\n",
              "            '<a target=\"_blank\" href=https://colab.research.google.com/notebooks/data_table.ipynb>data table notebook</a>'\n",
              "            + ' to learn more about interactive tables.';\n",
              "          element.innerHTML = '';\n",
              "          dataTable['output_type'] = 'display_data';\n",
              "          await google.colab.output.renderOutput(dataTable, element);\n",
              "          const docLink = document.createElement('div');\n",
              "          docLink.innerHTML = docLinkHtml;\n",
              "          element.appendChild(docLink);\n",
              "        }\n",
              "      </script>\n",
              "    </div>\n",
              "  </div>\n",
              "  "
            ]
          },
          "metadata": {},
          "execution_count": 2
        }
      ]
    },
    {
      "cell_type": "code",
      "source": [
        "df.info()"
      ],
      "metadata": {
        "colab": {
          "base_uri": "https://localhost:8080/"
        },
        "id": "eJ9kD4fRN0W9",
        "outputId": "e148a2ab-1723-41eb-d590-b890685df232"
      },
      "execution_count": 3,
      "outputs": [
        {
          "output_type": "stream",
          "name": "stdout",
          "text": [
            "<class 'pandas.core.frame.DataFrame'>\n",
            "RangeIndex: 466285 entries, 0 to 466284\n",
            "Data columns (total 75 columns):\n",
            " #   Column                       Non-Null Count   Dtype  \n",
            "---  ------                       --------------   -----  \n",
            " 0   Unnamed: 0                   466285 non-null  int64  \n",
            " 1   id                           466285 non-null  int64  \n",
            " 2   member_id                    466285 non-null  int64  \n",
            " 3   loan_amnt                    466285 non-null  int64  \n",
            " 4   funded_amnt                  466285 non-null  int64  \n",
            " 5   funded_amnt_inv              466285 non-null  float64\n",
            " 6   term                         466285 non-null  object \n",
            " 7   int_rate                     466285 non-null  float64\n",
            " 8   installment                  466285 non-null  float64\n",
            " 9   grade                        466285 non-null  object \n",
            " 10  sub_grade                    466285 non-null  object \n",
            " 11  emp_title                    438697 non-null  object \n",
            " 12  emp_length                   445277 non-null  object \n",
            " 13  home_ownership               466285 non-null  object \n",
            " 14  annual_inc                   466281 non-null  float64\n",
            " 15  verification_status          466285 non-null  object \n",
            " 16  issue_d                      466285 non-null  object \n",
            " 17  loan_status                  466285 non-null  object \n",
            " 18  pymnt_plan                   466285 non-null  object \n",
            " 19  url                          466285 non-null  object \n",
            " 20  desc                         125983 non-null  object \n",
            " 21  purpose                      466285 non-null  object \n",
            " 22  title                        466265 non-null  object \n",
            " 23  zip_code                     466285 non-null  object \n",
            " 24  addr_state                   466285 non-null  object \n",
            " 25  dti                          466285 non-null  float64\n",
            " 26  delinq_2yrs                  466256 non-null  float64\n",
            " 27  earliest_cr_line             466256 non-null  object \n",
            " 28  inq_last_6mths               466256 non-null  float64\n",
            " 29  mths_since_last_delinq       215934 non-null  float64\n",
            " 30  mths_since_last_record       62638 non-null   float64\n",
            " 31  open_acc                     466256 non-null  float64\n",
            " 32  pub_rec                      466256 non-null  float64\n",
            " 33  revol_bal                    466285 non-null  int64  \n",
            " 34  revol_util                   465945 non-null  float64\n",
            " 35  total_acc                    466256 non-null  float64\n",
            " 36  initial_list_status          466285 non-null  object \n",
            " 37  out_prncp                    466285 non-null  float64\n",
            " 38  out_prncp_inv                466285 non-null  float64\n",
            " 39  total_pymnt                  466285 non-null  float64\n",
            " 40  total_pymnt_inv              466285 non-null  float64\n",
            " 41  total_rec_prncp              466285 non-null  float64\n",
            " 42  total_rec_int                466285 non-null  float64\n",
            " 43  total_rec_late_fee           466285 non-null  float64\n",
            " 44  recoveries                   466285 non-null  float64\n",
            " 45  collection_recovery_fee      466285 non-null  float64\n",
            " 46  last_pymnt_d                 465909 non-null  object \n",
            " 47  last_pymnt_amnt              466285 non-null  float64\n",
            " 48  next_pymnt_d                 239071 non-null  object \n",
            " 49  last_credit_pull_d           466243 non-null  object \n",
            " 50  collections_12_mths_ex_med   466140 non-null  float64\n",
            " 51  mths_since_last_major_derog  98974 non-null   float64\n",
            " 52  policy_code                  466285 non-null  int64  \n",
            " 53  application_type             466285 non-null  object \n",
            " 54  annual_inc_joint             0 non-null       float64\n",
            " 55  dti_joint                    0 non-null       float64\n",
            " 56  verification_status_joint    0 non-null       float64\n",
            " 57  acc_now_delinq               466256 non-null  float64\n",
            " 58  tot_coll_amt                 396009 non-null  float64\n",
            " 59  tot_cur_bal                  396009 non-null  float64\n",
            " 60  open_acc_6m                  0 non-null       float64\n",
            " 61  open_il_6m                   0 non-null       float64\n",
            " 62  open_il_12m                  0 non-null       float64\n",
            " 63  open_il_24m                  0 non-null       float64\n",
            " 64  mths_since_rcnt_il           0 non-null       float64\n",
            " 65  total_bal_il                 0 non-null       float64\n",
            " 66  il_util                      0 non-null       float64\n",
            " 67  open_rv_12m                  0 non-null       float64\n",
            " 68  open_rv_24m                  0 non-null       float64\n",
            " 69  max_bal_bc                   0 non-null       float64\n",
            " 70  all_util                     0 non-null       float64\n",
            " 71  total_rev_hi_lim             396009 non-null  float64\n",
            " 72  inq_fi                       0 non-null       float64\n",
            " 73  total_cu_tl                  0 non-null       float64\n",
            " 74  inq_last_12m                 0 non-null       float64\n",
            "dtypes: float64(46), int64(7), object(22)\n",
            "memory usage: 266.8+ MB\n"
          ]
        }
      ]
    },
    {
      "cell_type": "code",
      "source": [
        "df.columns"
      ],
      "metadata": {
        "colab": {
          "base_uri": "https://localhost:8080/"
        },
        "id": "4L4V3iRKNHlL",
        "outputId": "278fd19c-a027-4f76-9aba-61e064936d03"
      },
      "execution_count": 4,
      "outputs": [
        {
          "output_type": "execute_result",
          "data": {
            "text/plain": [
              "Index(['Unnamed: 0', 'id', 'member_id', 'loan_amnt', 'funded_amnt',\n",
              "       'funded_amnt_inv', 'term', 'int_rate', 'installment', 'grade',\n",
              "       'sub_grade', 'emp_title', 'emp_length', 'home_ownership', 'annual_inc',\n",
              "       'verification_status', 'issue_d', 'loan_status', 'pymnt_plan', 'url',\n",
              "       'desc', 'purpose', 'title', 'zip_code', 'addr_state', 'dti',\n",
              "       'delinq_2yrs', 'earliest_cr_line', 'inq_last_6mths',\n",
              "       'mths_since_last_delinq', 'mths_since_last_record', 'open_acc',\n",
              "       'pub_rec', 'revol_bal', 'revol_util', 'total_acc',\n",
              "       'initial_list_status', 'out_prncp', 'out_prncp_inv', 'total_pymnt',\n",
              "       'total_pymnt_inv', 'total_rec_prncp', 'total_rec_int',\n",
              "       'total_rec_late_fee', 'recoveries', 'collection_recovery_fee',\n",
              "       'last_pymnt_d', 'last_pymnt_amnt', 'next_pymnt_d', 'last_credit_pull_d',\n",
              "       'collections_12_mths_ex_med', 'mths_since_last_major_derog',\n",
              "       'policy_code', 'application_type', 'annual_inc_joint', 'dti_joint',\n",
              "       'verification_status_joint', 'acc_now_delinq', 'tot_coll_amt',\n",
              "       'tot_cur_bal', 'open_acc_6m', 'open_il_6m', 'open_il_12m',\n",
              "       'open_il_24m', 'mths_since_rcnt_il', 'total_bal_il', 'il_util',\n",
              "       'open_rv_12m', 'open_rv_24m', 'max_bal_bc', 'all_util',\n",
              "       'total_rev_hi_lim', 'inq_fi', 'total_cu_tl', 'inq_last_12m'],\n",
              "      dtype='object')"
            ]
          },
          "metadata": {},
          "execution_count": 4
        }
      ]
    },
    {
      "cell_type": "code",
      "source": [
        "print('Total Dataset = ', df.shape)"
      ],
      "metadata": {
        "colab": {
          "base_uri": "https://localhost:8080/"
        },
        "id": "WNQcX30ANc6P",
        "outputId": "ed20d69f-1930-45cb-ec2b-58e45f5f707e"
      },
      "execution_count": 5,
      "outputs": [
        {
          "output_type": "stream",
          "name": "stdout",
          "text": [
            "Total Dataset =  (466285, 75)\n"
          ]
        }
      ]
    },
    {
      "cell_type": "code",
      "source": [
        "print('Duplicated in Dataset = ', df.duplicated().sum())\n",
        "print('Total Null Values = ', df.isnull().sum().sum())"
      ],
      "metadata": {
        "colab": {
          "base_uri": "https://localhost:8080/"
        },
        "id": "Czrwrvh2Nrk5",
        "outputId": "6ee6f535-3bb9-43f0-8ab9-40909939c27f"
      },
      "execution_count": 6,
      "outputs": [
        {
          "output_type": "stream",
          "name": "stdout",
          "text": [
            "Duplicated in Dataset =  0\n",
            "Total Null Values =  9776224\n"
          ]
        }
      ]
    },
    {
      "cell_type": "code",
      "source": [
        "plt.figure(figsize = (22, 8))\n",
        "\n",
        "sns.heatmap(data = df.isnull(), cmap = 'Blues')"
      ],
      "metadata": {
        "colab": {
          "base_uri": "https://localhost:8080/",
          "height": 642
        },
        "id": "nkqAvLgTOBCG",
        "outputId": "7b6d4772-2046-4419-fd4c-5d6dffd72191"
      },
      "execution_count": 7,
      "outputs": [
        {
          "output_type": "execute_result",
          "data": {
            "text/plain": [
              "<Axes: >"
            ]
          },
          "metadata": {},
          "execution_count": 7
        },
        {
          "output_type": "display_data",
          "data": {
            "text/plain": [
              "<Figure size 1584x576 with 2 Axes>"
            ],
            "image/png": "[encoded data removed]"
          },
          "metadata": {
            "needs_background": "light"
          }
        }
      ]
    },
    {
      "cell_type": "code",
      "source": [
        "# print null column by name\n",
        "for col in df.columns:\n",
        "\n",
        "    print(col, ':', round(100 * df[col].isnull().sum() / df.shape[0]))\n"
      ],
      "metadata": {
        "colab": {
          "base_uri": "https://localhost:8080/"
        },
        "id": "qdDCVId9O9VN",
        "outputId": "54715d53-f7d3-4e4b-f0ea-8c673d7d305c"
      },
      "execution_count": 11,
      "outputs": [
        {
          "output_type": "stream",
          "name": "stdout",
          "text": [
            "Unnamed: 0 : 0\n",
            "id : 0\n",
            "member_id : 0\n",
            "loan_amnt : 0\n",
            "funded_amnt : 0\n",
            "funded_amnt_inv : 0\n",
            "term : 0\n",
            "int_rate : 0\n",
            "installment : 0\n",
            "grade : 0\n",
            "sub_grade : 0\n",
            "emp_title : 6\n",
            "emp_length : 5\n",
            "home_ownership : 0\n",
            "annual_inc : 0\n",
            "verification_status : 0\n",
            "issue_d : 0\n",
            "loan_status : 0\n",
            "pymnt_plan : 0\n",
            "url : 0\n",
            "desc : 73\n",
            "purpose : 0\n",
            "title : 0\n",
            "zip_code : 0\n",
            "addr_state : 0\n",
            "dti : 0\n",
            "delinq_2yrs : 0\n",
            "earliest_cr_line : 0\n",
            "inq_last_6mths : 0\n",
            "mths_since_last_delinq : 54\n",
            "mths_since_last_record : 87\n",
            "open_acc : 0\n",
            "pub_rec : 0\n",
            "revol_bal : 0\n",
            "revol_util : 0\n",
            "total_acc : 0\n",
            "initial_list_status : 0\n",
            "out_prncp : 0\n",
            "out_prncp_inv : 0\n",
            "total_pymnt : 0\n",
            "total_pymnt_inv : 0\n",
            "total_rec_prncp : 0\n",
            "total_rec_int : 0\n",
            "total_rec_late_fee : 0\n",
            "recoveries : 0\n",
            "collection_recovery_fee : 0\n",
            "last_pymnt_d : 0\n",
            "last_pymnt_amnt : 0\n",
            "next_pymnt_d : 49\n",
            "last_credit_pull_d : 0\n",
            "collections_12_mths_ex_med : 0\n",
            "mths_since_last_major_derog : 79\n",
            "policy_code : 0\n",
            "application_type : 0\n",
            "annual_inc_joint : 100\n",
            "dti_joint : 100\n",
            "verification_status_joint : 100\n",
            "acc_now_delinq : 0\n",
            "tot_coll_amt : 15\n",
            "tot_cur_bal : 15\n",
            "open_acc_6m : 100\n",
            "open_il_6m : 100\n",
            "open_il_12m : 100\n",
            "open_il_24m : 100\n",
            "mths_since_rcnt_il : 100\n",
            "total_bal_il : 100\n",
            "il_util : 100\n",
            "open_rv_12m : 100\n",
            "open_rv_24m : 100\n",
            "max_bal_bc : 100\n",
            "all_util : 100\n",
            "total_rev_hi_lim : 15\n",
            "inq_fi : 100\n",
            "total_cu_tl : 100\n",
            "inq_last_12m : 100\n"
          ]
        }
      ]
    },
    {
      "cell_type": "code",
      "source": [
        "# drop missing value columns if more than 30%\n",
        "for col in df.columns:\n",
        "    if round(100 * df[col].isnull().sum() / df.shape[0]) > 30:\n",
        "        df.drop(col, axis=1, inplace=True)"
      ],
      "metadata": {
        "id": "DQnSbTUaZUip"
      },
      "execution_count": 12,
      "outputs": []
    },
    {
      "cell_type": "code",
      "source": [
        "# check null column\n",
        "for col in df.columns:\n",
        "\n",
        "    print(col, ':', round(100 * df[col].isnull().sum() / df.shape[0]))"
      ],
      "metadata": {
        "colab": {
          "base_uri": "https://localhost:8080/"
        },
        "id": "CxedfUH9a3fn",
        "outputId": "f363bd54-90e9-41a4-fcff-ed30f5d8983e"
      },
      "execution_count": 13,
      "outputs": [
        {
          "output_type": "stream",
          "name": "stdout",
          "text": [
            "Unnamed: 0 : 0\n",
            "id : 0\n",
            "member_id : 0\n",
            "loan_amnt : 0\n",
            "funded_amnt : 0\n",
            "funded_amnt_inv : 0\n",
            "term : 0\n",
            "int_rate : 0\n",
            "installment : 0\n",
            "grade : 0\n",
            "sub_grade : 0\n",
            "emp_title : 6\n",
            "emp_length : 5\n",
            "home_ownership : 0\n",
            "annual_inc : 0\n",
            "verification_status : 0\n",
            "issue_d : 0\n",
            "loan_status : 0\n",
            "pymnt_plan : 0\n",
            "url : 0\n",
            "purpose : 0\n",
            "title : 0\n",
            "zip_code : 0\n",
            "addr_state : 0\n",
            "dti : 0\n",
            "delinq_2yrs : 0\n",
            "earliest_cr_line : 0\n",
            "inq_last_6mths : 0\n",
            "open_acc : 0\n",
            "pub_rec : 0\n",
            "revol_bal : 0\n",
            "revol_util : 0\n",
            "total_acc : 0\n",
            "initial_list_status : 0\n",
            "out_prncp : 0\n",
            "out_prncp_inv : 0\n",
            "total_pymnt : 0\n",
            "total_pymnt_inv : 0\n",
            "total_rec_prncp : 0\n",
            "total_rec_int : 0\n",
            "total_rec_late_fee : 0\n",
            "recoveries : 0\n",
            "collection_recovery_fee : 0\n",
            "last_pymnt_d : 0\n",
            "last_pymnt_amnt : 0\n",
            "last_credit_pull_d : 0\n",
            "collections_12_mths_ex_med : 0\n",
            "policy_code : 0\n",
            "application_type : 0\n",
            "acc_now_delinq : 0\n",
            "tot_coll_amt : 15\n",
            "tot_cur_bal : 15\n",
            "total_rev_hi_lim : 15\n"
          ]
        }
      ]
    },
    {
      "cell_type": "markdown",
      "source": [
        "<h1> Data Preprocessing</h1>\n",
        "\n",
        "Impute missing value"
      ],
      "metadata": {
        "id": "OUDucvWHrMdi"
      }
    },
    {
      "cell_type": "code",
      "source": [
        "df['emp_length'].unique()"
      ],
      "metadata": {
        "colab": {
          "base_uri": "https://localhost:8080/"
        },
        "id": "C3-NyARshMaB",
        "outputId": "be0b468e-49fa-496f-f9de-13b01714ff95"
      },
      "execution_count": 18,
      "outputs": [
        {
          "output_type": "execute_result",
          "data": {
            "text/plain": [
              "array(['10+ years', '< 1 year', '1 year', '3 years', '8 years', '9 years',\n",
              "       '4 years', '5 years', '6 years', '2 years', '7 years', nan],\n",
              "      dtype=object)"
            ]
          },
          "metadata": {},
          "execution_count": 18
        }
      ]
    },
    {
      "cell_type": "code",
      "source": [
        "# print missing value in column emp_length\n",
        "for col in df['emp_length'].unique():\n",
        "    print(col, ':', df['emp_length'].isnull().sum())"
      ],
      "metadata": {
        "colab": {
          "base_uri": "https://localhost:8080/"
        },
        "id": "qUh4W3P5sJWw",
        "outputId": "674bdeac-1492-4ffd-c68f-8dede58e1cad"
      },
      "execution_count": 25,
      "outputs": [
        {
          "output_type": "stream",
          "name": "stdout",
          "text": [
            "10+ years : 21008\n",
            "< 1 year : 21008\n",
            "1 year : 21008\n",
            "3 years : 21008\n",
            "8 years : 21008\n",
            "9 years : 21008\n",
            "4 years : 21008\n",
            "5 years : 21008\n",
            "6 years : 21008\n",
            "2 years : 21008\n",
            "7 years : 21008\n",
            "nan : 21008\n"
          ]
        }
      ]
    },
    {
      "cell_type": "code",
      "source": [
        "df['emp_length_int']=df['emp_length'].str.replace('\\+ years','')\n",
        "\n",
        "df['emp_length_int']=df['emp_length_int'].str.replace('< 1 year',str(0))\n",
        "\n",
        "df['emp_length_int']=df['emp_length_int'].str.replace('n/a',str(0))\n",
        "\n",
        "df['emp_length_int']=df['emp_length_int'].str.replace('years','')\n",
        "\n",
        "df['emp_length_int']=df['emp_length_int'].str.replace('year','')"
      ],
      "metadata": {
        "colab": {
          "base_uri": "https://localhost:8080/"
        },
        "id": "lQDqhmEarXwi",
        "outputId": "147c85aa-dcc6-4280-b3f8-4922841e4c66"
      },
      "execution_count": 29,
      "outputs": [
        {
          "output_type": "stream",
          "name": "stderr",
          "text": [
            "<ipython-input-29-c89ae5352348>:1: FutureWarning: The default value of regex will change from True to False in a future version.\n",
            "  df['emp_length_int']=df['emp_length'].str.replace('\\+ years','')\n"
          ]
        }
      ]
    },
    {
      "cell_type": "code",
      "source": [
        "print('Current data type is : ', type(df['emp_length_int'][0]))"
      ],
      "metadata": {
        "colab": {
          "base_uri": "https://localhost:8080/"
        },
        "id": "YtmwVJ4vwFr5",
        "outputId": "886b2879-d668-4def-c214-2b720271f7ea"
      },
      "execution_count": 31,
      "outputs": [
        {
          "output_type": "stream",
          "name": "stdout",
          "text": [
            "Current data type is :  <class 'str'>\n"
          ]
        }
      ]
    },
    {
      "cell_type": "code",
      "source": [
        "df['emp_length_int'] = pd.to_numeric(df['emp_length_int'])"
      ],
      "metadata": {
        "id": "gi627zL2wQ_v"
      },
      "execution_count": 32,
      "outputs": []
    },
    {
      "cell_type": "code",
      "source": [
        "print('Current data type after convert is : ', type(df['emp_length_int'][0]))"
      ],
      "metadata": {
        "colab": {
          "base_uri": "https://localhost:8080/"
        },
        "id": "axlQGLbJwXzR",
        "outputId": "74ed4682-cf98-4020-c1bc-06d6d6c39bd1"
      },
      "execution_count": 33,
      "outputs": [
        {
          "output_type": "stream",
          "name": "stdout",
          "text": [
            "Current data type after convert is :  <class 'numpy.float64'>\n"
          ]
        }
      ]
    }
  ]
}